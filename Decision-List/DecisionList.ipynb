{
  "nbformat": 4,
  "nbformat_minor": 0,
  "metadata": {
    "colab": {
      "name": "DecisionList.ipynb",
      "provenance": []
    },
    "kernelspec": {
      "name": "python3",
      "display_name": "Python 3"
    },
    "language_info": {
      "name": "python"
    }
  },
  "cells": [
    {
      "cell_type": "code",
      "execution_count": 228,
      "metadata": {
        "id": "3GdxrtHsCJe6"
      },
      "outputs": [],
      "source": [
        "#importo librerie necessarie e ottengo i dati\n",
        "import pandas as pd\n",
        "import numpy as np\n",
        "from pprint import pprint\n",
        "from itertools import combinations\n",
        "import operator"
      ]
    },
    {
      "cell_type": "code",
      "source": [
        "#import the dataset\n",
        "df = pd.read_csv(\"restaurant_waiting.csv\")\n",
        "#names=['Alt',\t'Bar',\t'Fri',\t'Hun',\t'Pat',\t'Price',\t'Rain',\t'Res',\t'Type',\t'Est',\t'Wait'])\n",
        "\n"
      ],
      "metadata": {
        "id": "7CLZqJeRCQP3"
      },
      "execution_count": 229,
      "outputs": []
    },
    {
      "cell_type": "code",
      "source": [
        "def controllo(data_yes,data_no,diz,giusti,val):\n",
        "   for row in data_yes.iterrows(): \n",
        "      diz[row[1][0]]=row[1][1]\n",
        "\n",
        "   for r in data_no.iterrows(): \n",
        "      if r[1][0] in diz:\n",
        "        if diz[r[1][0]]==r[1][1]:\n",
        "          giusti[r[1][0],val,r[1][1]]=r[1][2] \n",
        "      else:\n",
        "        giusti[r[1][0],val,r[1][1]]=r[1][2] \n",
        "   return diz"
      ],
      "metadata": {
        "id": "H_nkWYWNvlkp"
      },
      "execution_count": 230,
      "outputs": []
    },
    {
      "cell_type": "code",
      "source": [
        "def ricerca(data):\n",
        "  att=[]\n",
        "  com=[]\n",
        "  finale=[]\n",
        "  diz={}\n",
        "  giusti={}\n",
        "  num=0\n",
        "  d=data\n",
        "\n",
        "  for column in df:\n",
        "    att.append(column)\n",
        "  att.remove('Wait')\n",
        "\n",
        "  #for i in range(0,len(att)):\n",
        "  combinazioni = list(combinations(att, 1))\n",
        "  com.append(combinazioni)\n",
        "  #print(combinazioni)  \n",
        "  for elem in combinazioni:\n",
        "    for n in range(len(elem)):\n",
        "      val=elem[n]  \n",
        "      finale.append(val)  \n",
        "    finale.append('Wait') \n",
        "    for e in att:\n",
        "      if e!='Wait' and e not in finale:\n",
        "        d=d.drop([e],axis=1)\n",
        "    #print(data)    \n",
        "    group=d.groupby(finale)\n",
        "\n",
        "    d=group.size().reset_index(name='counts')\n",
        "    #print(finale[0])\n",
        "\n",
        "    df_mask=d['Wait']=='Yes'\n",
        "    data_yes=d[df_mask]\n",
        "    #print(data_yes)\n",
        "    df_mask=d['Wait']=='No'\n",
        "    data_no=d[df_mask]\n",
        "    #print(data_no)\n",
        "\n",
        "    val=finale[0]\n",
        "    \n",
        "    controllo(data_yes,data_no,diz,giusti,val)   \n",
        "    controllo(data_no,data_yes,diz,giusti,val)\n",
        "    #print(giusti)\n",
        "\n",
        "    finale=[]\n",
        "    d=data\n",
        "\n",
        "  for valori in giusti:\n",
        "    if giusti[valori]>num:\n",
        "      num=giusti[valori]\n",
        "      val=valori\n",
        "  \n",
        "  return val"
      ],
      "metadata": {
        "id": "xwKwKeEXQndS"
      },
      "execution_count": 231,
      "outputs": []
    },
    {
      "cell_type": "code",
      "source": [
        "dataset=df\n",
        "while(dataset.shape[0]):\n",
        "  val=ricerca(dataset)\n",
        "  print(val[1] + '->' + val[0] + '->  ' + val[2]) \n",
        "  df_mask=dataset[val[1]]!=val[0]\n",
        "  dataset = dataset[df_mask]\n",
        "  if(dataset.shape[0]):\n",
        "    print('|')\n",
        "    print('not' + val[0])\n",
        "    print('|')\n",
        "    #print(dataset)\n"
      ],
      "metadata": {
        "colab": {
          "base_uri": "https://localhost:8080/"
        },
        "id": "ZgSI1Wb5_XVy",
        "outputId": "f96b7e43-02a0-465d-83ff-4c649cff465b"
      },
      "execution_count": 237,
      "outputs": [
        {
          "output_type": "stream",
          "name": "stdout",
          "text": [
            "Pat->Some->  Yes\n",
            "|\n",
            "notSome\n",
            "|\n",
            "Hun->No->  No\n",
            "|\n",
            "notNo\n",
            "|\n",
            "Fri->No->  No\n",
            "|\n",
            "notNo\n",
            "|\n",
            "Price->$->  Yes\n",
            "|\n",
            "not$\n",
            "|\n",
            "Alt->Yes->  No\n"
          ]
        }
      ]
    },
    {
      "cell_type": "code",
      "source": [
        "dataset=df\n",
        "val=ricerca(dataset)\n",
        "print(val[1] + '->' + val[0] + '->' + val[2])\n",
        "\n",
        "df_mask=dataset[val[1]]!=val[0]\n",
        "dataset = dataset[df_mask]\n",
        "print(dataset)\n",
        "\n",
        "val=ricerca(dataset)\n",
        "print(val[1] + '->' + val[0] + '->' + val[2])\n",
        "\n",
        "df_mask=dataset[val[1]]!=val[0]\n",
        "dataset = dataset[df_mask]\n",
        "print(dataset)\n",
        "\n",
        "val=ricerca(dataset)\n",
        "print(val[1] + '->' + val[0] + '->' + val[2])\n",
        "\n",
        "df_mask=dataset[val[1]]!=val[0]\n",
        "dataset = dataset[df_mask]\n",
        "print(dataset)\n",
        "\n",
        "val=ricerca(dataset)\n",
        "print(val[1] + '->' + val[0] + '->' + val[2])\n",
        "\n",
        "df_mask=dataset[val[1]]!=val[0]\n",
        "dataset = dataset[df_mask]\n",
        "print(dataset)\n",
        "\n",
        "val=ricerca(dataset)\n",
        "print(val[1] + '->' + val[0] + '->' + val[2])\n",
        "\n"
      ],
      "metadata": {
        "colab": {
          "base_uri": "https://localhost:8080/"
        },
        "id": "M3XLRHjZw5og",
        "outputId": "d7fa2051-a9cc-4d1c-8569-c06fb554d8df"
      },
      "execution_count": 234,
      "outputs": [
        {
          "output_type": "stream",
          "name": "stdout",
          "text": [
            "Pat->Some->Yes\n",
            "    Alt  Bar  Fri  Hun   Pat Price Rain  Res     Type    Est Wait\n",
            "1   Yes   No   No  Yes  Full     $   No   No     Thai  30-60   No\n",
            "3   Yes   No  Yes  Yes  Full     $   No   No     Thai  10-30  Yes\n",
            "4   Yes   No  Yes   No  Full   $$$   No  Yes   French    >60   No\n",
            "6    No  Yes   No   No  None     $  Yes   No   Burger   0-10   No\n",
            "8    No  Yes  Yes   No  Full     $  Yes   No   Burger    >60   No\n",
            "9   Yes  Yes  Yes  Yes  Full   $$$   No  Yes  Italian  10-30   No\n",
            "10   No   No   No   No  None     $   No   No     Thai   0-10   No\n",
            "11  Yes  Yes  Yes  Yes  Full     $   No   No   Burger  30-60  Yes\n",
            "Hun->No->No\n",
            "    Alt  Bar  Fri  Hun   Pat Price Rain  Res     Type    Est Wait\n",
            "1   Yes   No   No  Yes  Full     $   No   No     Thai  30-60   No\n",
            "3   Yes   No  Yes  Yes  Full     $   No   No     Thai  10-30  Yes\n",
            "9   Yes  Yes  Yes  Yes  Full   $$$   No  Yes  Italian  10-30   No\n",
            "11  Yes  Yes  Yes  Yes  Full     $   No   No   Burger  30-60  Yes\n",
            "Fri->No->No\n",
            "    Alt  Bar  Fri  Hun   Pat Price Rain  Res     Type    Est Wait\n",
            "3   Yes   No  Yes  Yes  Full     $   No   No     Thai  10-30  Yes\n",
            "9   Yes  Yes  Yes  Yes  Full   $$$   No  Yes  Italian  10-30   No\n",
            "11  Yes  Yes  Yes  Yes  Full     $   No   No   Burger  30-60  Yes\n",
            "Price->$->Yes\n",
            "   Alt  Bar  Fri  Hun   Pat Price Rain  Res     Type    Est Wait\n",
            "9  Yes  Yes  Yes  Yes  Full   $$$   No  Yes  Italian  10-30   No\n",
            "Alt->Yes->No\n"
          ]
        }
      ]
    }
  ]
}