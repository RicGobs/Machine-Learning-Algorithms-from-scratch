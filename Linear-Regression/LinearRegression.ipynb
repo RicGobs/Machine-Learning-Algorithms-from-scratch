{
  "nbformat": 4,
  "nbformat_minor": 0,
  "metadata": {
    "colab": {
      "name": "LinearRegression.ipynb",
      "provenance": []
    },
    "kernelspec": {
      "name": "python3",
      "display_name": "Python 3"
    },
    "language_info": {
      "name": "python"
    }
  },
  "cells": [
    {
      "cell_type": "code",
      "execution_count": 4,
      "metadata": {
        "id": "egVfVUC9A4Kp"
      },
      "outputs": [],
      "source": [
        "import numpy as np\n",
        "import pandas as pd\n",
        "import matplotlib.pyplot as plt\n",
        "from sklearn.datasets import load_iris"
      ]
    },
    {
      "cell_type": "code",
      "source": [
        "def costo_MSE(X, y, batch):\n",
        "    temp = y.size\n",
        "    errore = np.dot(X, batch.T) - y\n",
        "    costo = 1/(2*temp) * np.dot(errore.T, errore) #uso questo che ci troviamo con più features\n",
        "    return costo, errore\n",
        "\n",
        "def gradient_descent(X, y, batch, alpha, iterazioni):\n",
        "    costo_array = np.zeros(iterazioni)\n",
        "    temp = y.size\n",
        "    for i in range(iterazioni):\n",
        "        costo, errore = costo_MSE(X, y, batch)\n",
        "        batch = batch - (alpha * (1/temp) * np.dot(X.T, errore))\n",
        "        costo_array[i] = costo\n",
        "    return batch, costo_array\n",
        "\n",
        "def plotta(iterazioni, costo):\n",
        "    fig, ax = plt.subplots()\n",
        "    ax.plot(np.arange(iterazioni), costo, 'r')\n",
        "    ax.set_xlabel('Iterazioni')\n",
        "    ax.set_ylabel('Costo')\n",
        "    ax.set_title('Convergenza di MSE')\n",
        "    plt.show()    "
      ],
      "metadata": {
        "id": "eb17ZEgRA8p_"
      },
      "execution_count": 5,
      "outputs": []
    },
    {
      "cell_type": "code",
      "source": [
        "data = load_iris()\n",
        "\n",
        "Features = pd.DataFrame(data.data, columns=data.feature_names)\n",
        "Target = pd.DataFrame(data.target, columns=['Target'])\n",
        "df = Features.join(Target)\n",
        "X = df.drop('Target', axis=1)\n",
        "y = df.Target\n",
        "\n",
        "# normalizzo\n",
        "X = (X - X.mean()) / X.std()\n",
        "# aggiungo colonna per permettere al gradient descent di lavorare con più features\n",
        "X = np.c_[np.ones(X.shape[0]), X] \n",
        "#metto valori di learning_rate e iterazioni, questo sono le più performanti\n",
        "learning_rate = 0.01 #alpha=learning_rate\n",
        "iterazioni = 1000\n",
        "#inizializzo coefficienti a zero\n",
        "coeff = np.zeros(X.shape[1])\n",
        "costo_zero, _ = costo_MSE(X, y, coeff)\n",
        "\n",
        "print('Valori dei coefficienti iniziali : {0} ----- Errore costo iniziale di : {1}'.format(coeff, costo_zero))\n",
        "\n",
        "# Run Gradient Descent\n",
        "coeff, costo = gradient_descent(X, y, coeff, learning_rate, iterazioni)\n",
        "\n",
        "# Display cost chart\n",
        "plotta(iterazioni, costo)\n",
        "\n",
        "costo_finale, _ = costo_MSE(X, y, coeff)\n",
        "\n",
        "print('Valori dei coefficienti finali : {0} ----- Errore costo finale di : {1}'.format(coeff, costo_finale))\n",
        "\n",
        "#Non plotto la linear regression poichè lavoro con 4 features e 3 target -> non riesco a presentare il grafico con queste dimensioni\n",
        "#Però c'è la convergenza di MSE e questo è sensato\n",
        "#Inoltre si trovano dei coefficienti per la funzione della linear regression e questo significa che l'algoritmo trova una solouzione"
      ],
      "metadata": {
        "colab": {
          "base_uri": "https://localhost:8080/",
          "height": 330
        },
        "id": "jHzsGSTMA8vj",
        "outputId": "82feff68-5c91-4053-a3f7-e2f72841fe31"
      },
      "execution_count": 6,
      "outputs": [
        {
          "output_type": "stream",
          "name": "stdout",
          "text": [
            "Valori dei coefficienti iniziali : [0. 0. 0. 0. 0.] ----- Errore costo iniziale di : 0.8333333333333334\n"
          ]
        },
        {
          "output_type": "display_data",
          "data": {
            "text/plain": [
              "<Figure size 432x288 with 1 Axes>"
            ],
            "image/png": "[encoded data removed]"
          },
          "metadata": {
            "needs_background": "light"
          }
        },
        {
          "output_type": "stream",
          "name": "stdout",
          "text": [
            "Valori dei coefficienti finali : [ 0.99995683 -0.00157092 -0.05130384  0.32314088  0.44693114] ----- Errore costo finale di : 0.023949904751829235\n"
          ]
        }
      ]
    }
  ]
}