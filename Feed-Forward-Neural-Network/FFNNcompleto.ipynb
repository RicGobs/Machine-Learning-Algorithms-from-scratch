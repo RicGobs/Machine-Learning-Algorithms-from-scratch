{
  "nbformat": 4,
  "nbformat_minor": 0,
  "metadata": {
    "colab": {
      "name": "FFNNcompleto.ipynb",
      "provenance": []
    },
    "kernelspec": {
      "name": "python3",
      "display_name": "Python 3"
    },
    "language_info": {
      "name": "python"
    }
  },
  "cells": [
    {
      "cell_type": "code",
      "execution_count": 17,
      "metadata": {
        "id": "_JIh044EnGNq"
      },
      "outputs": [],
      "source": [
        "from sklearn.datasets import load_iris\n",
        "import matplotlib.pyplot as plt\n",
        "import numpy as np\n",
        "import pandas as pd\n",
        "from sklearn.preprocessing import OneHotEncoder\n",
        "from sklearn.model_selection import train_test_split"
      ]
    },
    {
      "cell_type": "code",
      "source": [
        "#solita inizializzazione\n",
        "df = load_iris()\n",
        "Features = pd.DataFrame(df.data, columns=df.feature_names)\n",
        "Target = pd.DataFrame(df.target, columns=['Species'])\n",
        "iris = Features.join(Target)\n",
        "iris = iris.sample(frac=1).reset_index(drop=True)\n",
        "X = iris[['sepal length (cm)','sepal width (cm)','petal length (cm)','petal width (cm)']]\n",
        "X = np.array(X)\n",
        "one_hot_encoder = OneHotEncoder(sparse=False)\n",
        "Y = iris.Species   #lavoro coi vettori\n",
        "Y = one_hot_encoder.fit_transform(np.array(Y).reshape(-1, 1))\n",
        "X_train, X_test, Y_train, Y_test = train_test_split(X, Y, test_size=0.15)"
      ],
      "metadata": {
        "id": "n9YN4cM8nGjr"
      },
      "execution_count": 18,
      "outputs": []
    },
    {
      "cell_type": "code",
      "source": [
        "def ffnn(X_train, Y_train, iterazione, nodi, learning_rate): #non ho messo la lunghezza ma me la ricavo sotto\n",
        "    #ho messo X_train, Y_train e iterazione perchè ritengo sia più completa così la funzione, questi parametri potevano essere presi da fuori (dalla cella sopra e da quella in cui ffnn viene chiamata),\n",
        "    #però se il testo fosse diverso così posso far lavorare completamente da sola la funzione, ad esempio nella situazione in cui ricevo una dataset da splittato\n",
        "    hidden_livelli = len(nodi) - 1 #lunghezza hidden layers   \n",
        "    livelli, pesi = len(nodi), [] #lunghezza tutti i livelli, pesi li metto in una lista perchè ho le varie combinazioni\n",
        "    #inizializzo valori dei pesi a un numero random tra -1 e 1\n",
        "    for i in range(1, livelli): #inizializzazione come in linear e logistic\n",
        "        peso_iniz= [[np.random.uniform(-1, 1) for k in range(nodi[i-1] + 1)] for j in range(nodi[i])] \n",
        "        pesi.append(np.matrix(peso_iniz))\n",
        "\n",
        "    for iter in range(1, iterazione+1): #per permettere giù la stampa fatta bene\n",
        "        #back and forward propagation\n",
        "        livelli = len(pesi)\n",
        "        for i in range(len(X_train)):\n",
        "          x, y = X_train[i], Y_train[i]\n",
        "          x = np.matrix(np.append(1, x)) #aumento vettore della funzione, per spazio di lavoro\n",
        "          contributo = ForwardPropagation(x, pesi, livelli)\n",
        "          pesi = BackPropagation(y, contributo, pesi, livelli, learning_rate) #all'ultimo giro del ciclo avremo poi i pesi finali\n",
        "        #stampa\n",
        "        if(iter % 100 == 0):\n",
        "            print(\"iterazione numero: {}\".format(iter))\n",
        "            a=Accuracy(X_train, Y_train, pesi)\n",
        "            print(\"Accuracy:{}\".format(a))\n",
        "            accuracy.append(a)\n",
        "            print()"
      ],
      "metadata": {
        "id": "Vcr2egf2nGmC"
      },
      "execution_count": 19,
      "outputs": []
    },
    {
      "cell_type": "code",
      "source": [
        "def ForwardPropagation(x, pesi, livelli): #ho strutturato meglio back e forward, visto che non ho solo due livelli e devono quindi adattarsi al numero di layer\n",
        "    lista_contributo = [x]\n",
        "    livello_input = x         \n",
        "    for j in range(livelli):\n",
        "        contributo = Sigmoid(np.dot(livello_input, pesi[j].T)) #solita sigmoid\n",
        "        lista_contributo.append(contributo)\n",
        "        livello_input = np.append(1, contributo) #aumento bias\n",
        "    return lista_contributo\n",
        "\n",
        "def BackPropagation(y, lista_contributo, pesi, livelli, learning_rate): #ha come input quello che fa la forward\n",
        "    out = lista_contributo[-1]\n",
        "    errore=y - out\n",
        "    errore = np.matrix(errore) # Errore dall'output #uso sigmoid  #lo mappo in matrice, non posso quindi graficarlo; faccio il grafico dell'accuracy quindi\n",
        "    for j in range(livelli, 0, -1):\n",
        "        contributo_corrente = lista_contributo[j]       \n",
        "        if(j > 1):\n",
        "            #aumento bias\n",
        "            contributo_prima = np.append(1, lista_contributo[j-1])\n",
        "        else:\n",
        "            # sono nel primo livello hidden, quindi niente bias\n",
        "            contributo_prima = lista_contributo[0]\n",
        "        \n",
        "        delta = np.multiply(errore, SigmoidDerivative(contributo_corrente)) \n",
        "        pesi[j-1] += learning_rate * np.multiply(delta.T, contributo_prima)\n",
        "\n",
        "        w = np.delete(pesi[j-1], [0], axis=1) # tolgo il bias che ho aggiunto per i calcoli\n",
        "        errore = np.dot(delta, w) # errore per questo layer\n",
        "    return pesi"
      ],
      "metadata": {
        "id": "L1bzWCNLnGom"
      },
      "execution_count": 20,
      "outputs": []
    },
    {
      "cell_type": "code",
      "source": [
        "#solito\n",
        "def Sigmoid(x):\n",
        "    return 1 / (1 + np.exp(-x))\n",
        "def SigmoidDerivative(x):\n",
        "    return np.multiply(x, 1-x)\n",
        "    \n",
        "a = np.linspace( -5, 5, 50 )  #presentazione funzione sigmoid, che usiamo nella SGD\n",
        "b = 1 / ( 1 + np.exp( -a ) )  \n",
        "plt.plot( a, b )   "
      ],
      "metadata": {
        "colab": {
          "base_uri": "https://localhost:8080/",
          "height": 282
        },
        "id": "Dbyvl2yenGqy",
        "outputId": "1ff6dab1-6ecb-4dfe-a33a-5f2933b413a7"
      },
      "execution_count": 21,
      "outputs": [
        {
          "output_type": "execute_result",
          "data": {
            "text/plain": [
              "[<matplotlib.lines.Line2D at 0x7f70bc6a39d0>]"
            ]
          },
          "metadata": {},
          "execution_count": 21
        },
        {
          "output_type": "display_data",
          "data": {
            "text/plain": [
              "<Figure size 432x288 with 1 Axes>"
            ],
            "image/png": "[encoded data removed]"
          },
          "metadata": {
            "needs_background": "light"
          }
        }
      ]
    },
    {
      "cell_type": "code",
      "source": [
        "def Predict(feature, pesi):    #preso da homework precedenti, poi ho aggiunto la forward e ho sistemato\n",
        "    livelli = len(pesi)\n",
        "    feature = np.append(1, feature) #aumento vettore feature\n",
        "    lista_contributo = ForwardPropagation(feature, pesi, livelli)  \n",
        "    output = lista_contributo[-1].A1\n",
        "    m, val = output[0], 0\n",
        "    for i in range(1, len(output)):\n",
        "        if(output[i] > m):\n",
        "            m, val = output[i], i\n",
        "    #vettore che predice a zero\n",
        "    y = [0 for i in range(len(output))]\n",
        "    y[val] = 1 #ci lavoro e lo ritorno\n",
        "    return y \n",
        "\n",
        "def Accuracy(X, Y, pesi):\n",
        "    sol = 0\n",
        "    for i in range(len(X)):\n",
        "        xx, yy = X[i], list(Y[i])\n",
        "        guess = Predict(xx, pesi)\n",
        "        if(yy == guess): #se giusto fai +1\n",
        "            sol += 1\n",
        "    return sol / len(X)"
      ],
      "metadata": {
        "id": "ckiTsEhAnP91"
      },
      "execution_count": 22,
      "outputs": []
    },
    {
      "cell_type": "code",
      "source": [
        "input = len(X[0]) # Numero features -> 4\n",
        "output = len(Y[0]) # Numero specie diverse -> 3\n",
        "\n",
        "livelli = [input, 10, 20, 10, output] # Numero dei layers, stavolta ne puoi mettere quanti ne vuoi \n",
        "learning_rate, iterazioni = 0.01, 1000 # Si può scegliere sia num. iterazioni sia num. learning rate\n",
        "accuracy=[]\n",
        "ffnn(X_train, Y_train, iterazioni, livelli, learning_rate) #il problema alla fine è stato trasfomare e lavorare coi vettori, praticamente generalizzare il concetto.\n",
        "                                                          #Concettualmente è lo stesso esercizio dei due livelli, ho printato accuracy e non errore perchè stavolta salvo\n",
        "                                                          #l'errore in matrice e plt non mi fa stampare una dimensione maggiore di 2D."
      ],
      "metadata": {
        "colab": {
          "base_uri": "https://localhost:8080/"
        },
        "id": "j93j5YMUnQAw",
        "outputId": "a948ed59-4d79-4b3d-f678-7c9a429c3a38"
      },
      "execution_count": 23,
      "outputs": [
        {
          "output_type": "stream",
          "name": "stdout",
          "text": [
            "iterazione numero: 100\n",
            "Accuracy:0.7401574803149606\n",
            "\n",
            "iterazione numero: 200\n",
            "Accuracy:0.968503937007874\n",
            "\n",
            "iterazione numero: 300\n",
            "Accuracy:0.9763779527559056\n",
            "\n",
            "iterazione numero: 400\n",
            "Accuracy:0.984251968503937\n",
            "\n",
            "iterazione numero: 500\n",
            "Accuracy:0.9921259842519685\n",
            "\n",
            "iterazione numero: 600\n",
            "Accuracy:0.9921259842519685\n",
            "\n",
            "iterazione numero: 700\n",
            "Accuracy:0.9921259842519685\n",
            "\n",
            "iterazione numero: 800\n",
            "Accuracy:0.9921259842519685\n",
            "\n",
            "iterazione numero: 900\n",
            "Accuracy:0.9921259842519685\n",
            "\n",
            "iterazione numero: 1000\n",
            "Accuracy:0.9921259842519685\n",
            "\n"
          ]
        }
      ]
    },
    {
      "cell_type": "code",
      "source": [
        "plt.plot(accuracy) #grafico accuracy è sensato, in generale la ffnn migliora sempre fino ad arrivare ad un suo limite"
      ],
      "metadata": {
        "colab": {
          "base_uri": "https://localhost:8080/",
          "height": 283
        },
        "id": "hVpg8AMTnGtU",
        "outputId": "2b01a230-6f96-44d0-aa8b-9aef79e55191"
      },
      "execution_count": 24,
      "outputs": [
        {
          "output_type": "execute_result",
          "data": {
            "text/plain": [
              "[<matplotlib.lines.Line2D at 0x7f70bc617790>]"
            ]
          },
          "metadata": {},
          "execution_count": 24
        },
        {
          "output_type": "display_data",
          "data": {
            "text/plain": [
              "<Figure size 432x288 with 1 Axes>"
            ],
            "image/png": "[encoded data removed]"
          },
          "metadata": {
            "needs_background": "light"
          }
        }
      ]
    }
  ]
}